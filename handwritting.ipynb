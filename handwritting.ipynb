{
 "cells": [
  {
   "cell_type": "markdown",
   "metadata": {},
   "source": [
    "# Handwritting recognition"
   ]
  },
  {
   "cell_type": "code",
   "execution_count": 6,
   "metadata": {},
   "outputs": [],
   "source": [
    "import tensorflow as tf\n",
    "import numpy as np\n",
    "import matplotlib.pyplot as plt\n",
    "class myCallback(tf.keras.callbacks.Callback):\n",
    "    def on_epoch_end(self, epoch, logs={}):\n",
    "        if(logs.get('acc')>0.99):\n",
    "            print(\"\\nReached 99% accuracy so cancelling training!\")\n",
    "            self.model.stop_training = True\n",
    "            \n",
    "def train_mnist():\n",
    "    callbacks=myCallback()\n",
    "    mnist= tf.keras.datasets.mnist\n",
    "    (training_images, training_labels), (test_images, test_labels)=mnist.load_data()\n",
    "    training_images  = training_images / 255.0\n",
    "    test_images = test_images / 255.0\n",
    "    model = tf.keras.models.Sequential([tf.keras.layers.Flatten(), \n",
    "                                        tf.keras.layers.Dense(128, activation=tf.nn.relu), \n",
    "                                        tf.keras.layers.Dense(10, activation=tf.nn.softmax)])\n",
    "    from keras import optimizers\n",
    "    model.compile(optimizer ='Adam',\n",
    "                  loss = 'sparse_categorical_crossentropy',\n",
    "                  metrics=['accuracy'])\n",
    "\n",
    "    history = model.fit(training_images, training_labels, epochs=10, callbacks=[callbacks])\n",
    "    \n",
    "    return history.epoch, history.history['acc'][-1]\n",
    "\n"
   ]
  },
  {
   "cell_type": "code",
   "execution_count": 7,
   "metadata": {},
   "outputs": [
    {
     "name": "stdout",
     "output_type": "stream",
     "text": [
      "Epoch 1/10\n",
      "60000/60000 [==============================] - 13s 212us/sample - loss: 0.2572 - acc: 0.9268\n",
      "Epoch 2/10\n",
      "60000/60000 [==============================] - 14s 239us/sample - loss: 0.1137 - acc: 0.9664 - loss:\n",
      "Epoch 3/10\n",
      "60000/60000 [==============================] - 16s 261us/sample - loss: 0.0782 - acc: 0.9765\n",
      "Epoch 4/10\n",
      "60000/60000 [==============================] - 13s 221us/sample - loss: 0.0582 - acc: 0.9816\n",
      "Epoch 5/10\n",
      "60000/60000 [==============================] - 14s 229us/sample - loss: 0.0446 - acc: 0.9862\n",
      "Epoch 6/10\n",
      "60000/60000 [==============================] - 14s 229us/sample - loss: 0.0358 - acc: 0.9887\n",
      "Epoch 7/10\n",
      "59776/60000 [============================>.] - ETA: 0s - loss: 0.0289 - acc: 0.9908\n",
      "Reached 99% accuracy so cancelling training!\n",
      "60000/60000 [==============================] - 14s 227us/sample - loss: 0.0289 - acc: 0.9908\n"
     ]
    },
    {
     "data": {
      "text/plain": [
       "([0, 1, 2, 3, 4, 5, 6], 0.99081665)"
      ]
     },
     "execution_count": 7,
     "metadata": {},
     "output_type": "execute_result"
    }
   ],
   "source": [
    "train_mnist()"
   ]
  }
 ],
 "metadata": {
  "kernelspec": {
   "display_name": "Python 3",
   "language": "python",
   "name": "python3"
  },
  "language_info": {
   "codemirror_mode": {
    "name": "ipython",
    "version": 3
   },
   "file_extension": ".py",
   "mimetype": "text/x-python",
   "name": "python",
   "nbconvert_exporter": "python",
   "pygments_lexer": "ipython3",
   "version": "3.6.5"
  }
 },
 "nbformat": 4,
 "nbformat_minor": 2
}
